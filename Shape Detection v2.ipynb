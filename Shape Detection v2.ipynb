{
 "cells": [
  {
   "cell_type": "code",
   "execution_count": 8,
   "metadata": {
    "ExecuteTime": {
     "end_time": "2018-07-20T20:50:46.626299Z",
     "start_time": "2018-07-20T20:50:46.616364Z"
    }
   },
   "outputs": [],
   "source": [
    "import numpy as np\n",
    "import matplotlib.pyplot as plt\n",
    "import matplotlib\n",
    "%matplotlib inline\n",
    "import cairo\n",
    "\n",
    "from sklearn.model_selection import train_test_split\n",
    "\n",
    "from keras.utils import to_categorical\n",
    "from keras.models import Sequential\n",
    "from keras.layers import Dense, Activation, Dropout, Conv2D, MaxPooling2D, Flatten\n",
    "from keras import backend as K\n",
    "from keras.metrics import categorical_accuracy\n",
    "\n",
    "from utility import generate_images_with_bboxes, display_image_with_bboxes"
   ]
  },
  {
   "cell_type": "code",
   "execution_count": 9,
   "metadata": {
    "ExecuteTime": {
     "end_time": "2018-07-20T20:50:46.772337Z",
     "start_time": "2018-07-20T20:50:46.767188Z"
    }
   },
   "outputs": [],
   "source": [
    "SEED = 100\n",
    "\n",
    "num_imgs = 50000\n",
    "img_size = 32\n",
    "min_object_size = 8\n",
    "max_object_size = 16\n",
    "num_objects = 2\n",
    "\n",
    "num_epochs = 50"
   ]
  },
  {
   "cell_type": "code",
   "execution_count": 15,
   "metadata": {
    "ExecuteTime": {
     "end_time": "2018-07-20T20:58:36.115790Z",
     "start_time": "2018-07-20T20:58:36.105326Z"
    }
   },
   "outputs": [],
   "source": [
    "def iou_calc(y_true, y_pred):\n",
    "    y_true_f = K.flatten(y_true[0:4, 10:14])\n",
    "    y_pred_f = K.flatten(y_pred[0:4, 10:14])\n",
    "    intersection = K.sum(y_true_f * y_pred_f)\n",
    "    return 2*(intersection) / (K.sum(y_true_f) + K.sum(y_pred_f))\n",
    "\n",
    "\n",
    "def shape_acc(y_true, y_pred):\n",
    "    y_true_shape = K.flatten(y_true[4:7, 15:18])\n",
    "    y_pred_shape = K.flatten(y_pred[4:7, 15:18])\n",
    "    return categorical_accuracy(y_true_shape, y_pred_shape)\n",
    "\n",
    "def color_acc(y_true, y_pred):\n",
    "    y_true_color = K.flatten(y_true[7:10, 18:])\n",
    "    y_pred_color = K.flatten(y_pred[7:10, 18:])\n",
    "    return categorical_accuracy(y_true_color, y_pred_color)\n",
    "\n",
    "def iou_calc_loss(y_true, y_pred):\n",
    "    return -iou_calc(y_true, y_pred)\n",
    "\n",
    "def shape_loss(y_true, y_pred):\n",
    "    y_true_shape = K.flatten(y_true[4:7, 15:18])\n",
    "    y_pred_shape = K.flatten(y_pred[4:7, 15:18])\n",
    "    return categorical_crossentropy(y_true_shape, y_pred_shape)\n",
    "\n",
    "def color_loss():\n",
    "    y_true_color = K.flatten(y_true[7:10, 18:])\n",
    "    y_pred_color = K.flatten(y_pred[7:10, 18:])\n",
    "    return categorical_crossentropy(y_true_color, y_pred_color)"
   ]
  },
  {
   "cell_type": "code",
   "execution_count": 16,
   "metadata": {
    "ExecuteTime": {
     "end_time": "2018-07-20T20:58:37.379196Z",
     "start_time": "2018-07-20T20:58:37.367689Z"
    }
   },
   "outputs": [],
   "source": [
    "def basic_model(input_shape=[32, 32, 3], output_shape=20):\n",
    "    filter_size = 3\n",
    "    pool_size = 2\n",
    "    model = Sequential([\n",
    "        Conv2D(32, (6, 6), input_shape=input_shape, activation='relu'),\n",
    "        Conv2D(64, (filter_size, filter_size), activation='relu'),\n",
    "        Conv2D(128, (filter_size, filter_size), activation='relu'), \n",
    "        Conv2D(128, (filter_size, filter_size), activation='relu'), \n",
    "        Flatten(),\n",
    "        Dropout(0.4),\n",
    "        Dense(256, activation='relu'), \n",
    "        Dropout(0.4), \n",
    "        Dense(output_shape)\n",
    "    ])\n",
    "\n",
    "    model.compile(optimizer='adadelta', loss=[iou_calc_loss, shape_loss, color_loss], metrics=[iou_calc, shape_acc, color_acc])\n",
    "    return model"
   ]
  },
  {
   "cell_type": "code",
   "execution_count": null,
   "metadata": {},
   "outputs": [],
   "source": []
  },
  {
   "cell_type": "code",
   "execution_count": 17,
   "metadata": {
    "ExecuteTime": {
     "end_time": "2018-07-20T20:58:40.270741Z",
     "start_time": "2018-07-20T20:58:38.032864Z"
    }
   },
   "outputs": [],
   "source": [
    "imgs, bboxes, shapes, colors = generate_images_with_bboxes(\n",
    "    num_imgs,\n",
    "    img_size,\n",
    "    min_object_size,\n",
    "    max_object_size,\n",
    "    num_objects\n",
    ")"
   ]
  },
  {
   "cell_type": "code",
   "execution_count": 18,
   "metadata": {
    "ExecuteTime": {
     "end_time": "2018-07-20T20:58:41.874985Z",
     "start_time": "2018-07-20T20:58:40.272307Z"
    }
   },
   "outputs": [],
   "source": [
    "# Standardize images\n",
    "x = (imgs - 128.) / 255.\n",
    "\n",
    "# Get one-hot arrays\n",
    "colors_one_hot = to_categorical(colors)\n",
    "shapes_one_hot = to_categorical(shapes)\n",
    "\n",
    "y = np.concatenate([bboxes / img_size, shapes_one_hot, colors_one_hot], axis=-1).reshape(num_imgs, -1)\n",
    "x_train, x_test, y_train, y_test = train_test_split(x, y, test_size=0.2, random_state=SEED)"
   ]
  },
  {
   "cell_type": "code",
   "execution_count": 19,
   "metadata": {
    "ExecuteTime": {
     "end_time": "2018-07-20T20:58:41.879171Z",
     "start_time": "2018-07-20T20:58:41.876575Z"
    }
   },
   "outputs": [
    {
     "name": "stdout",
     "output_type": "stream",
     "text": [
      "(40000, 20)\n"
     ]
    }
   ],
   "source": [
    "y_train[0]\n",
    "print(y_train.shape)"
   ]
  },
  {
   "cell_type": "code",
   "execution_count": 20,
   "metadata": {
    "ExecuteTime": {
     "end_time": "2018-07-20T20:58:42.172551Z",
     "start_time": "2018-07-20T20:58:41.880613Z"
    }
   },
   "outputs": [
    {
     "ename": "ValueError",
     "evalue": "When passing a list as loss, it should have one entry per model outputs. The model has 1 outputs, but you passed loss=[<function iou_calc_loss at 0x7fd29425a840>, <function shape_loss at 0x7fd29425aa60>, <function color_loss at 0x7fd29425ae18>]",
     "output_type": "error",
     "traceback": [
      "\u001b[0;31m---------------------------------------------------------------------------\u001b[0m",
      "\u001b[0;31mValueError\u001b[0m                                Traceback (most recent call last)",
      "\u001b[0;32m<ipython-input-20-968f085f8d7d>\u001b[0m in \u001b[0;36m<module>\u001b[0;34m()\u001b[0m\n\u001b[0;32m----> 1\u001b[0;31m \u001b[0mmodel\u001b[0m \u001b[0;34m=\u001b[0m \u001b[0mbasic_model\u001b[0m\u001b[0;34m(\u001b[0m\u001b[0;34m[\u001b[0m\u001b[0;36m32\u001b[0m\u001b[0;34m,\u001b[0m \u001b[0;36m32\u001b[0m\u001b[0;34m,\u001b[0m \u001b[0;36m3\u001b[0m\u001b[0;34m]\u001b[0m\u001b[0;34m,\u001b[0m \u001b[0;36m20\u001b[0m\u001b[0;34m)\u001b[0m\u001b[0;34m\u001b[0m\u001b[0m\n\u001b[0m\u001b[1;32m      2\u001b[0m \u001b[0mmodel\u001b[0m\u001b[0;34m.\u001b[0m\u001b[0mfit\u001b[0m\u001b[0;34m(\u001b[0m\u001b[0mx_train\u001b[0m\u001b[0;34m,\u001b[0m \u001b[0my_train\u001b[0m\u001b[0;34m,\u001b[0m \u001b[0mepochs\u001b[0m\u001b[0;34m=\u001b[0m\u001b[0mnum_epochs\u001b[0m\u001b[0;34m,\u001b[0m \u001b[0mvalidation_data\u001b[0m\u001b[0;34m=\u001b[0m\u001b[0;34m(\u001b[0m\u001b[0mx_test\u001b[0m\u001b[0;34m,\u001b[0m \u001b[0my_test\u001b[0m\u001b[0;34m)\u001b[0m\u001b[0;34m,\u001b[0m \u001b[0mverbose\u001b[0m\u001b[0;34m=\u001b[0m\u001b[0;36m1\u001b[0m\u001b[0;34m)\u001b[0m\u001b[0;34m\u001b[0m\u001b[0m\n",
      "\u001b[0;32m<ipython-input-16-efa50770f3ab>\u001b[0m in \u001b[0;36mbasic_model\u001b[0;34m(input_shape, output_shape)\u001b[0m\n\u001b[1;32m     14\u001b[0m     ])\n\u001b[1;32m     15\u001b[0m \u001b[0;34m\u001b[0m\u001b[0m\n\u001b[0;32m---> 16\u001b[0;31m     \u001b[0mmodel\u001b[0m\u001b[0;34m.\u001b[0m\u001b[0mcompile\u001b[0m\u001b[0;34m(\u001b[0m\u001b[0moptimizer\u001b[0m\u001b[0;34m=\u001b[0m\u001b[0;34m'adadelta'\u001b[0m\u001b[0;34m,\u001b[0m \u001b[0mloss\u001b[0m\u001b[0;34m=\u001b[0m\u001b[0;34m[\u001b[0m\u001b[0miou_calc_loss\u001b[0m\u001b[0;34m,\u001b[0m \u001b[0mshape_loss\u001b[0m\u001b[0;34m,\u001b[0m \u001b[0mcolor_loss\u001b[0m\u001b[0;34m]\u001b[0m\u001b[0;34m,\u001b[0m \u001b[0mmetrics\u001b[0m\u001b[0;34m=\u001b[0m\u001b[0;34m[\u001b[0m\u001b[0miou_calc\u001b[0m\u001b[0;34m,\u001b[0m \u001b[0mshape_acc\u001b[0m\u001b[0;34m,\u001b[0m \u001b[0mcolor_acc\u001b[0m\u001b[0;34m]\u001b[0m\u001b[0;34m)\u001b[0m\u001b[0;34m\u001b[0m\u001b[0m\n\u001b[0m\u001b[1;32m     17\u001b[0m     \u001b[0;32mreturn\u001b[0m \u001b[0mmodel\u001b[0m\u001b[0;34m\u001b[0m\u001b[0m\n",
      "\u001b[0;32m~/venv/lib/python3.6/site-packages/keras/engine/training.py\u001b[0m in \u001b[0;36mcompile\u001b[0;34m(self, optimizer, loss, metrics, loss_weights, sample_weight_mode, weighted_metrics, target_tensors, **kwargs)\u001b[0m\n\u001b[1;32m    132\u001b[0m                                  \u001b[0;34m'The model has '\u001b[0m \u001b[0;34m+\u001b[0m \u001b[0mstr\u001b[0m\u001b[0;34m(\u001b[0m\u001b[0mlen\u001b[0m\u001b[0;34m(\u001b[0m\u001b[0mself\u001b[0m\u001b[0;34m.\u001b[0m\u001b[0moutputs\u001b[0m\u001b[0;34m)\u001b[0m\u001b[0;34m)\u001b[0m \u001b[0;34m+\u001b[0m\u001b[0;34m\u001b[0m\u001b[0m\n\u001b[1;32m    133\u001b[0m                                  \u001b[0;34m' outputs, but you passed loss='\u001b[0m \u001b[0;34m+\u001b[0m\u001b[0;34m\u001b[0m\u001b[0m\n\u001b[0;32m--> 134\u001b[0;31m                                  str(loss))\n\u001b[0m\u001b[1;32m    135\u001b[0m             \u001b[0mloss_functions\u001b[0m \u001b[0;34m=\u001b[0m \u001b[0;34m[\u001b[0m\u001b[0mlosses\u001b[0m\u001b[0;34m.\u001b[0m\u001b[0mget\u001b[0m\u001b[0;34m(\u001b[0m\u001b[0ml\u001b[0m\u001b[0;34m)\u001b[0m \u001b[0;32mfor\u001b[0m \u001b[0ml\u001b[0m \u001b[0;32min\u001b[0m \u001b[0mloss\u001b[0m\u001b[0;34m]\u001b[0m\u001b[0;34m\u001b[0m\u001b[0m\n\u001b[1;32m    136\u001b[0m         \u001b[0;32melse\u001b[0m\u001b[0;34m:\u001b[0m\u001b[0;34m\u001b[0m\u001b[0m\n",
      "\u001b[0;31mValueError\u001b[0m: When passing a list as loss, it should have one entry per model outputs. The model has 1 outputs, but you passed loss=[<function iou_calc_loss at 0x7fd29425a840>, <function shape_loss at 0x7fd29425aa60>, <function color_loss at 0x7fd29425ae18>]"
     ]
    }
   ],
   "source": [
    "model = basic_model([32, 32, 3], 20)\n",
    "model.fit(x_train, y_train, epochs=num_epochs, validation_data=(x_test, y_test), verbose=1)    "
   ]
  },
  {
   "cell_type": "code",
   "execution_count": null,
   "metadata": {
    "ExecuteTime": {
     "start_time": "2018-07-20T20:33:26.857Z"
    }
   },
   "outputs": [],
   "source": [
    "y_test = model.predict(x_test)"
   ]
  },
  {
   "cell_type": "code",
   "execution_count": null,
   "metadata": {
    "ExecuteTime": {
     "start_time": "2018-07-20T20:33:27.049Z"
    }
   },
   "outputs": [],
   "source": [
    "print(y_test[0])"
   ]
  },
  {
   "cell_type": "code",
   "execution_count": null,
   "metadata": {
    "ExecuteTime": {
     "start_time": "2018-07-20T20:33:28.226Z"
    }
   },
   "outputs": [],
   "source": [
    "i = 10\n",
    "\n",
    "# \"De-standardize\"\n",
    "image = x_test[i] * 255 + 128\n",
    "\n",
    "bboxes = []\n",
    "bboxes.append(y_test[i][0:4] * img_size)\n",
    "bboxes.append(y_test[i][10:14] * img_size)\n",
    "\n",
    "shapes = []\n",
    "shapes.append(np.argmax(y_test[i][4:7]))\n",
    "shapes.append(np.argmax(y_test[i][15:18]))\n",
    "\n",
    "colors = []\n",
    "colors.append(np.argmax(y_test[i][7:10]))\n",
    "colors.append(np.argmax(y_test[i][18:]))"
   ]
  },
  {
   "cell_type": "code",
   "execution_count": null,
   "metadata": {
    "ExecuteTime": {
     "start_time": "2018-07-20T20:33:28.545Z"
    }
   },
   "outputs": [],
   "source": [
    "display_image_with_bboxes(image, bboxes, shapes, colors)"
   ]
  },
  {
   "cell_type": "code",
   "execution_count": null,
   "metadata": {},
   "outputs": [],
   "source": []
  }
 ],
 "metadata": {
  "kernelspec": {
   "display_name": "Python 3",
   "language": "python",
   "name": "python3"
  },
  "language_info": {
   "codemirror_mode": {
    "name": "ipython",
    "version": 3
   },
   "file_extension": ".py",
   "mimetype": "text/x-python",
   "name": "python",
   "nbconvert_exporter": "python",
   "pygments_lexer": "ipython3",
   "version": "3.6.6"
  }
 },
 "nbformat": 4,
 "nbformat_minor": 2
}
