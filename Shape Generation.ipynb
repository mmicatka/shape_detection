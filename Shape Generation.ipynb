{
 "cells": [
  {
   "cell_type": "code",
   "execution_count": 3,
   "metadata": {
    "ExecuteTime": {
     "end_time": "2018-07-19T20:24:22.489848Z",
     "start_time": "2018-07-19T20:24:22.160962Z"
    }
   },
   "outputs": [],
   "source": [
    "import numpy as np\n",
    "import matplotlib.pyplot as plt\n",
    "import matplotlib\n",
    "%matplotlib inline\n",
    "\n",
    "import cairo"
   ]
  },
  {
   "cell_type": "code",
   "execution_count": 108,
   "metadata": {
    "ExecuteTime": {
     "end_time": "2018-07-19T21:02:32.170948Z",
     "start_time": "2018-07-19T21:02:32.156883Z"
    }
   },
   "outputs": [],
   "source": [
    "def generate_images_with_bboxes(num_imgs=1, img_size=32, min_object_size=8, max_object_size=16, num_objects=2):\n",
    "    bboxes = np.zeros((num_imgs, num_objects, 4))\n",
    "    imgs = np.zeros((num_imgs, img_size, img_size, 4), dtype=np.uint8)\n",
    "    shapes = np.zeros((num_imgs, num_objects), dtype=int)\n",
    "    num_shapes = 3\n",
    "    colors = np.zeros((num_imgs, num_objects), dtype=int)\n",
    "    num_colors = 3\n",
    "\n",
    "    for img_ in range(num_imgs):\n",
    "        surface = cairo.ImageSurface.create_for_data(imgs[img_], cairo.FORMAT_ARGB32, img_size, img_size)\n",
    "        cr = cairo.Context(surface)\n",
    "        # Background is white\n",
    "        cr.set_source_rgb(1, 1, 1)\n",
    "        cr.paint()\n",
    "        for object_ in range(num_objects):\n",
    "            shape = np.random.randint(num_shapes)\n",
    "            shapes[img_, object_] = shape\n",
    "            \n",
    "            if shape == 0:\n",
    "                # rectangle\n",
    "                w, h = np.random.randint(min_object_size, max_object_size, size=2)\n",
    "                x = np.random.randint(0, img_size - w)\n",
    "                y = np.random.randint(0, img_size - h)\n",
    "                bboxes[img_, object_] = [x, y, w, h]\n",
    "                cr.rectangle(x, y, w, h)            \n",
    "            elif shape == 1:\n",
    "                # circle\n",
    "                r = 0.5 * np.random.randint(min_object_size, max_object_size)\n",
    "                x = np.random.randint(r, img_size - r)\n",
    "                y = np.random.randint(r, img_size - r)\n",
    "                bboxes[img_, object_] = [x - r, y - r, 2 * r, 2 * r]\n",
    "                cr.arc(x, y, r, 0, 2*np.pi)\n",
    "            else:\n",
    "                # triangle\n",
    "                w, h = np.random.randint(min_object_size, max_object_size, size=2)\n",
    "                x = np.random.randint(0, img_size - w)\n",
    "                y = np.random.randint(0, img_size - h)\n",
    "                bboxes[img_, object_] = [x, y, w, h]\n",
    "                cr.move_to(x, y)\n",
    "                cr.line_to(x + w, y)\n",
    "                cr.line_to(x + w, y + h)\n",
    "                cr.line_to(x, y)\n",
    "                cr.close_path()\n",
    "\n",
    "            color = np.random.randint(num_colors)\n",
    "            colors[img_, object_] = color\n",
    "            rgb = [0, 0, 0]\n",
    "            rgb[color] = 1\n",
    "            # Add some randomness to color at some point - Not critical for now though\n",
    "            cr.set_source_rgb(rgb[0], rgb[1], rgb[2])\n",
    "            cr.fill()\n",
    "    \n",
    "    imgs = imgs[..., 2::-1]  # is BGRA, convert to RGB\n",
    "    \n",
    "    return imgs, bboxes, shapes, colors"
   ]
  },
  {
   "cell_type": "code",
   "execution_count": 99,
   "metadata": {
    "ExecuteTime": {
     "end_time": "2018-07-19T20:57:56.458888Z",
     "start_time": "2018-07-19T20:57:56.450516Z"
    }
   },
   "outputs": [],
   "source": [
    "def display_image_with_bboxes(image, bboxes, shapes, colors):\n",
    "    shape_labels = ['rectangle', 'circle', 'triangle']\n",
    "    color_labels = ['r', 'g', 'b']\n",
    "    plt.imshow(image, origin='lower', extent=[0, 32, 0, 32])\n",
    "    for bbox, shape, color in zip(bboxes, shapes, colors):\n",
    "        plt.gca().add_patch(matplotlib.patches.Rectangle((bbox[0], bbox[1]), bbox[2], bbox[3], ec='k', fc='none'))\n",
    "        plt.annotate(shape_labels[shape], (bbox[0], bbox[1] + bbox[3] + 0.7), color=color_labels[color], clip_on=False)"
   ]
  },
  {
   "cell_type": "code",
   "execution_count": 107,
   "metadata": {
    "ExecuteTime": {
     "end_time": "2018-07-19T20:59:05.713694Z",
     "start_time": "2018-07-19T20:59:05.580741Z"
    }
   },
   "outputs": [
    {
     "data": {
      "image/png": "[encoded data removed]",
      "text/plain": [
       "<Figure size 432x288 with 1 Axes>"
      ]
     },
     "metadata": {},
     "output_type": "display_data"
    }
   ],
   "source": [
    "imgs, bboxes, shapes, colors = generate_images_with_bboxes(num_imgs=2)\n",
    "display_image_with_bboxes(imgs[0], bboxes[0], shapes[0], colors[0])"
   ]
  }
 ],
 "metadata": {
  "kernelspec": {
   "display_name": "Python 3",
   "language": "python",
   "name": "python3"
  },
  "language_info": {
   "codemirror_mode": {
    "name": "ipython",
    "version": 3
   },
   "file_extension": ".py",
   "mimetype": "text/x-python",
   "name": "python",
   "nbconvert_exporter": "python",
   "pygments_lexer": "ipython3",
   "version": "3.6.6"
  }
 },
 "nbformat": 4,
 "nbformat_minor": 2
}
