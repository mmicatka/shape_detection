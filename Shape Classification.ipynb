{
 "cells": [
  {
   "cell_type": "markdown",
   "metadata": {},
   "source": [
    "# Shape Classification Using Keras\n",
    "\n",
    "This notebook shows how to utilize generators to create synthetic \"images\" for multi-output classification. We will be using the [cairo](https://pycairo.readthedocs.io/en/latest/) library to create simple shapes with different colors on a white background. We will then create a network using [Keras](https://keras.io/) that will be able to both classify our images based on their shape and their color (at the same time).\n",
    "\n",
    "\n",
    "A good resource for using keras for multiple outputs and multiple losses (using a more complicated image collection/network) is: https://www.pyimagesearch.com/2018/06/04/keras-multiple-outputs-and-multiple-losses/"
   ]
  },
  {
   "cell_type": "code",
   "execution_count": 1,
   "metadata": {
    "ExecuteTime": {
     "end_time": "2018-07-22T06:21:38.037934Z",
     "start_time": "2018-07-22T06:21:36.789963Z"
    }
   },
   "outputs": [
    {
     "name": "stderr",
     "output_type": "stream",
     "text": [
      "Using TensorFlow backend.\n"
     ]
    }
   ],
   "source": [
    "import numpy as np\n",
    "import matplotlib.pyplot as plt\n",
    "import matplotlib\n",
    "%matplotlib inline\n",
    "import cairo\n",
    "\n",
    "from sklearn.model_selection import train_test_split\n",
    "\n",
    "from keras.utils import to_categorical\n",
    "from keras.models import Model\n",
    "from keras.layers.normalization import BatchNormalization\n",
    "from keras.layers.core import Activation\n",
    "from keras.layers.core import Dropout\n",
    "from keras.layers.core import Lambda\n",
    "from keras.models import Sequential\n",
    "from keras.layers import Dense, Activation, Dropout, Conv2D, MaxPooling2D, Flatten, Input\n",
    "from keras import backend as K\n",
    "from keras.metrics import categorical_accuracy\n",
    "\n",
    "from utility import generate_images_with_bboxes, display_image_with_bboxes"
   ]
  },
  {
   "cell_type": "code",
   "execution_count": 2,
   "metadata": {
    "ExecuteTime": {
     "end_time": "2018-07-22T06:21:38.041850Z",
     "start_time": "2018-07-22T06:21:38.039551Z"
    }
   },
   "outputs": [],
   "source": [
    "SEED = 100\n",
    "\n",
    "img_size = 32\n",
    "min_object_size = 8\n",
    "max_object_size = 16\n",
    "\n",
    "shape_labels = ['Rectangle', 'Circle', 'Triangle']\n",
    "color_labels = ['Red', 'Green', 'Blue']"
   ]
  },
  {
   "cell_type": "markdown",
   "metadata": {},
   "source": [
    "## Image Generator\n",
    "We want to be able to produce on-demand batches of images with their corresponding labels. We start with a function that will create a set number of images that contain a random shape (rectangle, circle, or triangle) as well as a random color (red, green, blue). Then we make the generator function in order to produce on-demand batches. We are also going to create a display function (mainly for sanity checking)."
   ]
  },
  {
   "cell_type": "code",
   "execution_count": 3,
   "metadata": {
    "ExecuteTime": {
     "end_time": "2018-07-22T06:21:38.055467Z",
     "start_time": "2018-07-22T06:21:38.043109Z"
    }
   },
   "outputs": [],
   "source": [
    "def create_images(num_imgs=1, img_size=32, min_object_size=8, max_object_size=16):\n",
    "    imgs = np.zeros((num_imgs, img_size, img_size, 4), dtype=np.uint8)\n",
    "    shapes = np.zeros(num_imgs, dtype=int)\n",
    "    num_shapes = 3\n",
    "    colors = np.zeros(num_imgs, dtype=int)\n",
    "    num_colors = 3\n",
    "    for img_ in range(num_imgs):\n",
    "        surface = cairo.ImageSurface.create_for_data(imgs[img_], cairo.FORMAT_ARGB32, img_size, img_size)\n",
    "        cr = cairo.Context(surface)\n",
    "        # Background is white\n",
    "        cr.set_source_rgb(1, 1, 1)\n",
    "        cr.paint()\n",
    "        \n",
    "        shape = np.random.randint(num_shapes)\n",
    "        shapes[img_] = shape\n",
    "        if shape == 0:\n",
    "            # rectangle\n",
    "            w, h = np.random.randint(min_object_size, max_object_size, size=2)\n",
    "            x = np.random.randint(0, img_size - w)\n",
    "            y = np.random.randint(0, img_size - h)\n",
    "            cr.rectangle(x, y, w, h)\n",
    "        elif shape == 1:\n",
    "            # circle\n",
    "            r = 0.5 * np.random.randint(min_object_size, max_object_size)\n",
    "            x = np.random.randint(r, img_size - r)\n",
    "            y = np.random.randint(r, img_size - r)\n",
    "            cr.arc(x, y, r, 0, 2 * np.pi)\n",
    "        else:\n",
    "            # triangle\n",
    "            w, h = np.random.randint(min_object_size, max_object_size, size=2)\n",
    "            x = np.random.randint(0, img_size - w)\n",
    "            y = np.random.randint(0, img_size - h)\n",
    "            cr.move_to(x, y)\n",
    "            cr.line_to(x + w, y)\n",
    "            cr.line_to(x + w, y + h)\n",
    "            cr.line_to(x, y)\n",
    "            cr.close_path()\n",
    "\n",
    "        color = np.random.randint(num_colors)\n",
    "        colors[img_] = color\n",
    "        rgb = [0, 0, 0]\n",
    "        rgb[color] = 1\n",
    "        # Add some randomness to color at some point - Not critical for now though\n",
    "        cr.set_source_rgb(rgb[0], rgb[1], rgb[2])\n",
    "        cr.fill()\n",
    "\n",
    "    imgs = imgs[..., 2::-1]  # is BGRA, convert to RGB\n",
    "    return imgs, shapes, colors\n",
    "        \n",
    "\n",
    "def image_batch_generator(batch_size=32, img_size=32, min_object_size=8, max_object_size=16):\n",
    "    while True:\n",
    "        imgs, shape, color = create_images(batch_size, img_size, min_object_size, max_object_size)\n",
    "        shape_one_hot = to_categorical(shape, num_classes=3)\n",
    "        color_one_hot = to_categorical(color, num_classes=3)\n",
    "        yield imgs, [shape_one_hot, color_one_hot]\n",
    "        \n",
    "        \n",
    "def display_image_with_color_shape(image, shape, color, axes=None):\n",
    "    shape = np.argmax(shape)\n",
    "    color = np.argmax(color)\n",
    "    plt.imshow(image, origin='lower', extent=[0, 32, 0, 32])\n",
    "    plt.annotate(shape_labels[shape], (3, 3), color=color_labels[color], clip_on=False)"
   ]
  },
  {
   "cell_type": "code",
   "execution_count": 4,
   "metadata": {
    "ExecuteTime": {
     "end_time": "2018-07-22T06:21:38.326613Z",
     "start_time": "2018-07-22T06:21:38.057077Z"
    }
   },
   "outputs": [
    {
     "data": {
      "text/plain": [
       "Text(0.5,1,'Blue Rectangle')"
      ]
     },
     "execution_count": 4,
     "metadata": {},
     "output_type": "execute_result"
    },
    {
     "data": {
      "image/png": "[encoded data removed]",
      "text/plain": [
       "<Figure size 432x288 with 4 Axes>"
      ]
     },
     "metadata": {},
     "output_type": "display_data"
    }
   ],
   "source": [
    "np.random.seed(100)\n",
    "test_gen = image_batch_generator(batch_size=4)\n",
    "# We just want one \"batch\"\n",
    "images, (shapes, colors) = test_gen.__next__()\n",
    "\n",
    "# We need to do a bit of manipulation of the labels as they are one-hot encoded\n",
    "plt.subplot(221)\n",
    "index = 0\n",
    "plt.imshow(images[index])\n",
    "plt.title(color_labels[np.argmax(colors[index])] + ' ' + shape_labels[np.argmax(shapes[index])])\n",
    "\n",
    "plt.subplot(222)\n",
    "index = 1\n",
    "plt.imshow(images[index])\n",
    "plt.title(color_labels[np.argmax(colors[index])] + ' ' + shape_labels[np.argmax(shapes[index])])\n",
    "\n",
    "plt.subplot(223)\n",
    "index = 2\n",
    "plt.imshow(images[index])\n",
    "plt.title(color_labels[np.argmax(colors[index])] + ' ' + shape_labels[np.argmax(shapes[index])])\n",
    "\n",
    "plt.subplot(224)\n",
    "index = 3\n",
    "plt.imshow(images[index])\n",
    "plt.title(color_labels[np.argmax(colors[index])] + ' ' + shape_labels[np.argmax(shapes[index])])\n"
   ]
  },
  {
   "cell_type": "code",
   "execution_count": 12,
   "metadata": {
    "ExecuteTime": {
     "end_time": "2018-07-22T06:23:01.020642Z",
     "start_time": "2018-07-22T06:23:01.007230Z"
    }
   },
   "outputs": [],
   "source": [
    "def build_shape_branch(inputs, num_shapes,\n",
    "    finalAct=\"softmax\", chanDim=-1, name=\"shape_output\"):\n",
    "    # CONV => RELU => POOL\n",
    "    x = Conv2D(32, (3, 3), padding=\"same\")(inputs)\n",
    "    x = Activation(\"relu\")(x)\n",
    "    x = BatchNormalization(axis=chanDim)(x)\n",
    "    x = MaxPooling2D(pool_size=(3, 3))(x)\n",
    "    x = Dropout(0.25)(x)\n",
    "\n",
    "    # (CONV => RELU) * 2 => POOL\n",
    "    x = Conv2D(128, (3, 3), padding=\"same\")(x)\n",
    "    x = Activation(\"relu\")(x)\n",
    "    x = BatchNormalization(axis=chanDim)(x)\n",
    "    x = Conv2D(128, (3, 3), padding=\"same\")(x)\n",
    "    x = Activation(\"relu\")(x)\n",
    "    x = BatchNormalization(axis=chanDim)(x)\n",
    "    x = MaxPooling2D(pool_size=(2, 2))(x)\n",
    "    x = Dropout(0.25)(x)\n",
    "    \n",
    "    # (CONV => RELU) * 2 => POOL\n",
    "    x = Conv2D(128, (3, 3), padding=\"same\")(x)\n",
    "    x = Activation(\"relu\")(x)\n",
    "    x = BatchNormalization(axis=chanDim)(x)\n",
    "    x = Conv2D(128, (3, 3), padding=\"same\")(x)\n",
    "    x = Activation(\"relu\")(x)\n",
    "    x = BatchNormalization(axis=chanDim)(x)\n",
    "    x = MaxPooling2D(pool_size=(2, 2))(x)\n",
    "    x = Dropout(0.25)(x)\n",
    "    \n",
    "    x = Flatten()(x)\n",
    "    x = Dense(256)(x)\n",
    "    x = Activation(\"relu\")(x)\n",
    "    x = BatchNormalization()(x)\n",
    "    x = Dropout(0.5)(x)\n",
    "    x = Dense(num_shapes)(x)\n",
    "    x = Activation(finalAct, name=name)(x)\n",
    "\n",
    "    # return the category prediction sub-network\n",
    "    return x"
   ]
  },
  {
   "cell_type": "code",
   "execution_count": 13,
   "metadata": {
    "ExecuteTime": {
     "end_time": "2018-07-22T06:23:01.202046Z",
     "start_time": "2018-07-22T06:23:01.192016Z"
    }
   },
   "outputs": [],
   "source": [
    "def build_color_branch(inputs, num_colors, finalAct=\"softmax\",\n",
    "    chanDim=-1, name=\"color_output\"):\n",
    "    # CONV => RELU => POOL\n",
    "    x = Conv2D(16, (3, 3), padding=\"same\")(inputs)\n",
    "    x = Activation(\"relu\")(x)\n",
    "    x = BatchNormalization(axis=chanDim)(x)\n",
    "    x = MaxPooling2D(pool_size=(3, 3))(x)\n",
    "    x = Dropout(0.25)(x)\n",
    "\n",
    "    # CONV => RELU => POOL\n",
    "    x = Conv2D(32, (3, 3), padding=\"same\")(x)\n",
    "    x = Activation(\"relu\")(x)\n",
    "    x = BatchNormalization(axis=chanDim)(x)\n",
    "    x = MaxPooling2D(pool_size=(2, 2))(x)\n",
    "    x = Dropout(0.25)(x)\n",
    "\n",
    "    # define a branch of output layers for the number of different\n",
    "    # colors (i.e., red, black, blue, etc.)\n",
    "    x = Flatten()(x)\n",
    "    x = Dense(128)(x)\n",
    "    x = Activation(\"relu\")(x)\n",
    "    x = BatchNormalization()(x)\n",
    "    x = Dropout(0.5)(x)\n",
    "    x = Dense(num_colors)(x)\n",
    "    x = Activation(finalAct, name=name)(x)\n",
    "\n",
    "    # return the color prediction sub-network\n",
    "    return x"
   ]
  },
  {
   "cell_type": "code",
   "execution_count": 14,
   "metadata": {
    "ExecuteTime": {
     "end_time": "2018-07-22T06:23:01.355853Z",
     "start_time": "2018-07-22T06:23:01.350020Z"
    }
   },
   "outputs": [],
   "source": [
    "def build(input_shape, finalAct=\"softmax\"):\n",
    "    inputs = Input(shape=input_shape)    \n",
    "    shape_branch = build_shape_branch(inputs, num_shapes=3, name=\"shape_output\")\n",
    "    color_branch = build_color_branch(inputs, num_colors=3, name=\"color_output\")  \n",
    "    \n",
    "    model = Model(\n",
    "        inputs=inputs,\n",
    "        outputs=[\n",
    "            shape_branch, color_branch\n",
    "        ],\n",
    "        name=\"shape_net\"\n",
    "    )\n",
    "    \n",
    "    return model"
   ]
  },
  {
   "cell_type": "code",
   "execution_count": 15,
   "metadata": {
    "ExecuteTime": {
     "end_time": "2018-07-22T06:23:01.542820Z",
     "start_time": "2018-07-22T06:23:01.540336Z"
    }
   },
   "outputs": [],
   "source": [
    "batch_size = 32\n",
    "samples_per_epoch = 5000\n",
    "steps_per_epoch = samples_per_epoch // batch_size\n",
    "num_epochs = 20"
   ]
  },
  {
   "cell_type": "code",
   "execution_count": 16,
   "metadata": {
    "ExecuteTime": {
     "end_time": "2018-07-22T06:23:02.913096Z",
     "start_time": "2018-07-22T06:23:01.967025Z"
    }
   },
   "outputs": [],
   "source": [
    "losses = {\n",
    "    \"shape_output\": \"categorical_crossentropy\",\n",
    "    \"color_output\": \"categorical_crossentropy\",\n",
    "}\n",
    "\n",
    "model = build([32, 32, 3])\n",
    "model.compile(optimizer='adadelta', loss=losses, metrics=[\"accuracy\"])\n",
    "\n",
    "train_gen = image_batch_generator(batch_size=batch_size)\n",
    "valid_gen = image_batch_generator(batch_size=batch_size)"
   ]
  },
  {
   "cell_type": "code",
   "execution_count": 17,
   "metadata": {
    "ExecuteTime": {
     "end_time": "2018-07-22T06:24:40.592556Z",
     "start_time": "2018-07-22T06:23:02.914506Z"
    }
   },
   "outputs": [
    {
     "name": "stdout",
     "output_type": "stream",
     "text": [
      "Epoch 1/20\n",
      "156/156 [==============================] - 7s 45ms/step - loss: 0.6213 - shape_output_loss: 0.4693 - color_output_loss: 0.1520 - shape_output_acc: 0.8277 - color_output_acc: 0.9497 - val_loss: 1.0371 - val_shape_output_loss: 0.9025 - val_color_output_loss: 0.1347 - val_shape_output_acc: 0.7372 - val_color_output_acc: 0.9349\n",
      "Epoch 2/20\n",
      "156/156 [==============================] - 5s 30ms/step - loss: 0.0660 - shape_output_loss: 0.0554 - color_output_loss: 0.0106 - shape_output_acc: 0.9822 - color_output_acc: 0.9974 - val_loss: 0.3581 - val_shape_output_loss: 0.3579 - val_color_output_loss: 1.7161e-04 - val_shape_output_acc: 0.8998 - val_color_output_acc: 1.0000\n",
      "Epoch 3/20\n",
      "156/156 [==============================] - 5s 30ms/step - loss: 0.0435 - shape_output_loss: 0.0395 - color_output_loss: 0.0039 - shape_output_acc: 0.9854 - color_output_acc: 0.9992 - val_loss: 1.0802 - val_shape_output_loss: 1.0740 - val_color_output_loss: 0.0061 - val_shape_output_acc: 0.6416 - val_color_output_acc: 0.9990\n",
      "Epoch 4/20\n",
      "156/156 [==============================] - 5s 31ms/step - loss: 0.0252 - shape_output_loss: 0.0230 - color_output_loss: 0.0022 - shape_output_acc: 0.9936 - color_output_acc: 0.9996 - val_loss: 0.0114 - val_shape_output_loss: 0.0112 - val_color_output_loss: 1.7301e-04 - val_shape_output_acc: 0.9954 - val_color_output_acc: 1.0000\n",
      "Epoch 5/20\n",
      "156/156 [==============================] - 5s 30ms/step - loss: 0.0174 - shape_output_loss: 0.0159 - color_output_loss: 0.0015 - shape_output_acc: 0.9938 - color_output_acc: 1.0000 - val_loss: 0.1293 - val_shape_output_loss: 0.1292 - val_color_output_loss: 8.2303e-05 - val_shape_output_acc: 0.9613 - val_color_output_acc: 1.0000\n",
      "Epoch 6/20\n",
      "156/156 [==============================] - 5s 30ms/step - loss: 0.0190 - shape_output_loss: 0.0171 - color_output_loss: 0.0019 - shape_output_acc: 0.9960 - color_output_acc: 0.9996 - val_loss: 0.0245 - val_shape_output_loss: 0.0243 - val_color_output_loss: 2.3923e-04 - val_shape_output_acc: 0.9914 - val_color_output_acc: 1.0000\n",
      "Epoch 7/20\n",
      "156/156 [==============================] - 5s 29ms/step - loss: 0.0133 - shape_output_loss: 0.0129 - color_output_loss: 4.7208e-04 - shape_output_acc: 0.9940 - color_output_acc: 1.0000 - val_loss: 0.2099 - val_shape_output_loss: 0.2098 - val_color_output_loss: 2.5304e-05 - val_shape_output_acc: 0.9349 - val_color_output_acc: 1.0000\n",
      "Epoch 8/20\n",
      "156/156 [==============================] - 5s 30ms/step - loss: 0.0069 - shape_output_loss: 0.0065 - color_output_loss: 3.6074e-04 - shape_output_acc: 0.9988 - color_output_acc: 1.0000 - val_loss: 0.0058 - val_shape_output_loss: 1.4482e-04 - val_color_output_loss: 0.0056 - val_shape_output_acc: 1.0000 - val_color_output_acc: 0.9994\n",
      "Epoch 9/20\n",
      "156/156 [==============================] - 5s 30ms/step - loss: 0.0160 - shape_output_loss: 0.0154 - color_output_loss: 5.6808e-04 - shape_output_acc: 0.9962 - color_output_acc: 0.9996 - val_loss: 0.0197 - val_shape_output_loss: 0.0197 - val_color_output_loss: 5.8786e-06 - val_shape_output_acc: 0.9940 - val_color_output_acc: 1.0000\n",
      "Epoch 10/20\n",
      "156/156 [==============================] - 5s 30ms/step - loss: 0.0063 - shape_output_loss: 0.0059 - color_output_loss: 4.0499e-04 - shape_output_acc: 0.9982 - color_output_acc: 0.9998 - val_loss: 0.0300 - val_shape_output_loss: 0.0300 - val_color_output_loss: 1.8554e-06 - val_shape_output_acc: 0.9910 - val_color_output_acc: 1.0000\n",
      "Epoch 11/20\n",
      "156/156 [==============================] - 5s 30ms/step - loss: 0.0265 - shape_output_loss: 0.0257 - color_output_loss: 8.2499e-04 - shape_output_acc: 0.9942 - color_output_acc: 0.9998 - val_loss: 0.2391 - val_shape_output_loss: 0.2391 - val_color_output_loss: 1.5487e-05 - val_shape_output_acc: 0.9321 - val_color_output_acc: 1.0000\n",
      "Epoch 12/20\n",
      "156/156 [==============================] - 5s 30ms/step - loss: 0.0234 - shape_output_loss: 0.0230 - color_output_loss: 4.4766e-04 - shape_output_acc: 0.9944 - color_output_acc: 1.0000 - val_loss: 0.0047 - val_shape_output_loss: 0.0015 - val_color_output_loss: 0.0033 - val_shape_output_acc: 0.9998 - val_color_output_acc: 0.9992\n",
      "Epoch 13/20\n",
      "156/156 [==============================] - 5s 30ms/step - loss: 0.0086 - shape_output_loss: 0.0081 - color_output_loss: 5.2112e-04 - shape_output_acc: 0.9970 - color_output_acc: 0.9998 - val_loss: 0.1184 - val_shape_output_loss: 0.1184 - val_color_output_loss: 2.1041e-06 - val_shape_output_acc: 0.9581 - val_color_output_acc: 1.0000\n",
      "Epoch 14/20\n",
      "156/156 [==============================] - 5s 30ms/step - loss: 0.0099 - shape_output_loss: 0.0094 - color_output_loss: 5.1127e-04 - shape_output_acc: 0.9970 - color_output_acc: 0.9998 - val_loss: 4.6725e-05 - val_shape_output_loss: 4.5054e-05 - val_color_output_loss: 1.6716e-06 - val_shape_output_acc: 1.0000 - val_color_output_acc: 1.0000\n",
      "Epoch 15/20\n",
      "156/156 [==============================] - 5s 30ms/step - loss: 0.0069 - shape_output_loss: 0.0059 - color_output_loss: 9.4720e-04 - shape_output_acc: 0.9976 - color_output_acc: 0.9998 - val_loss: 1.0110e-04 - val_shape_output_loss: 1.0058e-04 - val_color_output_loss: 5.1504e-07 - val_shape_output_acc: 1.0000 - val_color_output_acc: 1.0000\n",
      "Epoch 16/20\n",
      "156/156 [==============================] - 5s 30ms/step - loss: 0.0020 - shape_output_loss: 0.0017 - color_output_loss: 3.1623e-04 - shape_output_acc: 0.9992 - color_output_acc: 1.0000 - val_loss: 7.0110e-06 - val_shape_output_loss: 6.6752e-06 - val_color_output_loss: 3.3573e-07 - val_shape_output_acc: 1.0000 - val_color_output_acc: 1.0000\n",
      "Epoch 17/20\n",
      "156/156 [==============================] - 5s 30ms/step - loss: 0.0038 - shape_output_loss: 0.0035 - color_output_loss: 2.5000e-04 - shape_output_acc: 0.9990 - color_output_acc: 1.0000 - val_loss: 7.3712e-06 - val_shape_output_loss: 2.6118e-06 - val_color_output_loss: 4.7594e-06 - val_shape_output_acc: 1.0000 - val_color_output_acc: 1.0000\n",
      "Epoch 18/20\n",
      "156/156 [==============================] - 5s 30ms/step - loss: 0.0057 - shape_output_loss: 0.0055 - color_output_loss: 2.2168e-04 - shape_output_acc: 0.9982 - color_output_acc: 1.0000 - val_loss: 5.9855e-06 - val_shape_output_loss: 5.5441e-06 - val_color_output_loss: 4.4142e-07 - val_shape_output_acc: 1.0000 - val_color_output_acc: 1.0000\n",
      "Epoch 19/20\n",
      "156/156 [==============================] - 5s 30ms/step - loss: 1.9112e-04 - shape_output_loss: 9.5887e-05 - color_output_loss: 9.5234e-05 - shape_output_acc: 1.0000 - color_output_acc: 1.0000 - val_loss: 4.4602e-06 - val_shape_output_loss: 2.9846e-06 - val_color_output_loss: 1.4756e-06 - val_shape_output_acc: 1.0000 - val_color_output_acc: 1.0000\n",
      "Epoch 20/20\n",
      "156/156 [==============================] - 5s 30ms/step - loss: 0.0015 - shape_output_loss: 0.0010 - color_output_loss: 4.8289e-04 - shape_output_acc: 0.9994 - color_output_acc: 0.9998 - val_loss: 0.1838 - val_shape_output_loss: 0.1838 - val_color_output_loss: 2.7948e-07 - val_shape_output_acc: 0.9355 - val_color_output_acc: 1.0000\n"
     ]
    }
   ],
   "source": [
    "hist = model.fit_generator(\n",
    "    train_gen,\n",
    "    steps_per_epoch=steps_per_epoch,\n",
    "    epochs=num_epochs,\n",
    "    validation_data=valid_gen,\n",
    "    validation_steps=steps_per_epoch,\n",
    "    use_multiprocessing=True\n",
    "    )"
   ]
  },
  {
   "cell_type": "code",
   "execution_count": 18,
   "metadata": {
    "ExecuteTime": {
     "end_time": "2018-07-22T06:24:44.495091Z",
     "start_time": "2018-07-22T06:24:44.227436Z"
    }
   },
   "outputs": [
    {
     "data": {
      "image/png": "[encoded data removed]",
      "text/plain": [
       "<Figure size 432x288 with 1 Axes>"
      ]
     },
     "metadata": {},
     "output_type": "display_data"
    },
    {
     "data": {
      "image/png": "[encoded data removed]",
      "text/plain": [
       "<Figure size 432x288 with 1 Axes>"
      ]
     },
     "metadata": {},
     "output_type": "display_data"
    }
   ],
   "source": [
    "plt.plot(hist.history['color_output_acc'])\n",
    "plt.plot(hist.history['val_color_output_acc'])\n",
    "plt.title('Color Accuracy')\n",
    "plt.ylabel('accuracy')\n",
    "plt.xlabel('epoch')\n",
    "plt.legend(['train color', 'valid color'], loc='upper left')\n",
    "plt.show()\n",
    "\n",
    "plt.plot(hist.history['shape_output_acc'])\n",
    "plt.plot(hist.history['val_shape_output_acc'])\n",
    "plt.title('Shape Accuracy')\n",
    "plt.ylabel('accuracy')\n",
    "plt.xlabel('epoch')\n",
    "plt.legend(['train shape', 'valid shape'], loc='upper left')\n",
    "plt.show()"
   ]
  }
 ],
 "metadata": {
  "kernelspec": {
   "display_name": "Python 3",
   "language": "python",
   "name": "python3"
  },
  "language_info": {
   "codemirror_mode": {
    "name": "ipython",
    "version": 3
   },
   "file_extension": ".py",
   "mimetype": "text/x-python",
   "name": "python",
   "nbconvert_exporter": "python",
   "pygments_lexer": "ipython3",
   "version": "3.6.6"
  }
 },
 "nbformat": 4,
 "nbformat_minor": 2
}
